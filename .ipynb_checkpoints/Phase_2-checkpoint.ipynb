{
 "cells": [
  {
   "cell_type": "markdown",
   "id": "0e352477",
   "metadata": {},
   "source": [
    "# Array list Operations"
   ]
  },
  {
   "cell_type": "code",
   "execution_count": 2,
   "id": "888a8da5",
   "metadata": {},
   "outputs": [],
   "source": [
    "import numpy as np"
   ]
  },
  {
   "cell_type": "code",
   "execution_count": 3,
   "id": "0e5a0dd8",
   "metadata": {},
   "outputs": [
    {
     "name": "stdout",
     "output_type": "stream",
     "text": [
      "Basic Slicing:  [3 4]\n",
      "Step Slicicng: [2 4 6]\n",
      "Negative Slicing:  4\n"
     ]
    }
   ],
   "source": [
    "arr = np.array([1,2,3,4,5,6])\n",
    "# Similar as MatLab just you have know it start from zero\n",
    "print(\"Basic Slicing: \",arr[2:4])\n",
    "print(\"Step Slicicng:\",arr[1:6:2])\n",
    "print(\"Negative Slicing: \",arr[-3])\n"
   ]
  },
  {
   "cell_type": "code",
   "execution_count": 4,
   "id": "0c26e596",
   "metadata": {},
   "outputs": [
    {
     "name": "stdout",
     "output_type": "stream",
     "text": [
      "Specific element:  6\n",
      "Selecting Entire Row: [4 5 6]\n",
      "Selecting Entire Column: [1 4 8]\n"
     ]
    }
   ],
   "source": [
    "arr_2D = np.array([[1,2,3],\n",
    "                  [4,5,6],\n",
    "                  [8,9,10]])\n",
    "\n",
    "print(\"Specific element: \",arr_2D[1,2])\n",
    "print(\"Selecting Entire Row:\",arr_2D[1])\n",
    "print(\"Selecting Entire Column:\",arr_2D[:,0])"
   ]
  },
  {
   "cell_type": "markdown",
   "id": "801ae4d0",
   "metadata": {},
   "source": [
    "### Sorting"
   ]
  },
  {
   "cell_type": "code",
   "execution_count": 5,
   "id": "13247579",
   "metadata": {},
   "outputs": [
    {
     "name": "stdout",
     "output_type": "stream",
     "text": [
      "Sorted Array [1 1 2 3 4 5 6 9]\n",
      "Sorting row Wise:  [[ 1  2]\n",
      " [-1  0]\n",
      " [ 5 21]]\n",
      "Sorting column wise: [[-1  0]\n",
      " [ 1  2]\n",
      " [21  5]]\n"
     ]
    }
   ],
   "source": [
    "unsorted = np.array([3, 1, 4, 1, 5, 9, 2, 6])\n",
    "print(\"Sorted Array\", np.sort(unsorted))\n",
    "\n",
    "\n",
    "arr_2D = np.array([[1,2],[-1,0],[21,5]])\n",
    "print(\"Sorting row Wise: \",np.sort(arr_2D,axis=1)) # 1 for row Axis \n",
    "print(\"Sorting column wise:\",np.sort(arr_2D,axis=0)) # 0 for Column Axis\n"
   ]
  },
  {
   "cell_type": "markdown",
   "id": "2590c87e",
   "metadata": {},
   "source": [
    "### Filter "
   ]
  },
  {
   "cell_type": "code",
   "execution_count": 6,
   "id": "6f19bfef",
   "metadata": {},
   "outputs": [
    {
     "name": "stdout",
     "output_type": "stream",
     "text": [
      "Filtered Even Number array:  [2 4 6 8]\n"
     ]
    }
   ],
   "source": [
    "numbers = np.array([1,2,3,4,5,6,7,8,9])\n",
    "even_number = numbers[numbers % 2 ==0]\n",
    "print(\"Filtered Even Number array: \",even_number)"
   ]
  },
  {
   "cell_type": "markdown",
   "id": "d894d5d7",
   "metadata": {},
   "source": [
    "### Filter with Mask"
   ]
  },
  {
   "cell_type": "code",
   "execution_count": 7,
   "id": "b7f7311a",
   "metadata": {},
   "outputs": [
    {
     "name": "stdout",
     "output_type": "stream",
     "text": [
      "[False False False False False False  True  True  True]\n",
      "Filtered array of number greater than 5:  [7 8 9]\n"
     ]
    }
   ],
   "source": [
    "mask = numbers > 6\n",
    "print(mask)\n",
    "print(\"Filtered array of number greater than 5: \",numbers[mask]) # internally what ?? numbers[mask] = [numbers[6], numbers[7], numbers[8]] = [7, 8, 9]\n"
   ]
  },
  {
   "cell_type": "markdown",
   "id": "25105ee2",
   "metadata": {},
   "source": [
    "### Fancy Indexing vs Where clause()\n"
   ]
  },
  {
   "cell_type": "code",
   "execution_count": 12,
   "id": "f503463a",
   "metadata": {},
   "outputs": [
    {
     "name": "stdout",
     "output_type": "stream",
     "text": [
      "Weired Syntax indexing: [1 3 5]\n",
      "Numpy Where  (array([5, 6, 7, 8]),)\n"
     ]
    }
   ],
   "source": [
    "indices = [0,2,4]\n",
    "index_applied = numbers[indices]\n",
    "print(\"Weired Syntax indexing:\",index_applied)\n",
    "\n",
    "\n",
    "#where()\n",
    "where_result = np.where(numbers>5)\n",
    "print(\"Numpy Where \",where_result)\n",
    "\n"
   ]
  },
  {
   "cell_type": "code",
   "execution_count": 14,
   "id": "f5f18e1c",
   "metadata": {},
   "outputs": [
    {
     "name": "stdout",
     "output_type": "stream",
     "text": [
      "condition_array [False False False False False  True  True  True  True]\n"
     ]
    }
   ],
   "source": [
    "condition_array = np.where(numbers>5,True,False)\n",
    "print(\"condition_array\",condition_array)"
   ]
  },
  {
   "cell_type": "markdown",
   "id": "6169af06",
   "metadata": {},
   "source": [
    "#### Pseudo-code to explain the where clause\n",
    "if (numbers > 5):\n",
    "    return True\n",
    "else:\n",
    "    return False\n"
   ]
  },
  {
   "cell_type": "markdown",
   "id": "4069d6d2",
   "metadata": {},
   "source": [
    "### Adding and removing data"
   ]
  },
  {
   "cell_type": "code",
   "execution_count": 17,
   "id": "2f99e761",
   "metadata": {},
   "outputs": [
    {
     "name": "stdout",
     "output_type": "stream",
     "text": [
      "[1 2 3 4 5 6]\n"
     ]
    }
   ],
   "source": [
    "arr1 = np.array([1,2,3])\n",
    "arr2 = np.array([4,5,6])\n",
    "\n",
    "combined = np.concatenate((arr1,arr2))\n",
    "print(combined)"
   ]
  },
  {
   "cell_type": "markdown",
   "id": "0675008f",
   "metadata": {},
   "source": [
    "\n",
    "### Array compatibilty"
   ]
  },
  {
   "cell_type": "code",
   "execution_count": 21,
   "id": "64ab7c06",
   "metadata": {},
   "outputs": [
    {
     "name": "stdout",
     "output_type": "stream",
     "text": [
      "Compatibiolity shape:  True\n"
     ]
    }
   ],
   "source": [
    "a = np.array([1,2,3])\n",
    "b = np.array([4,5,6])\n",
    "c = np.array([7,8,9])\n",
    "\n",
    "print(\"Compatibility shape: \",a.shape==b.shape)"
   ]
  },
  {
   "cell_type": "code",
   "execution_count": 27,
   "id": "3f0a0515",
   "metadata": {},
   "outputs": [
    {
     "name": "stdout",
     "output_type": "stream",
     "text": [
      "Array with new row:  [[1 2]\n",
      " [3 4]\n",
      " [7 8]]\n",
      "with new column [[1 2 7]\n",
      " [3 4 8]]\n"
     ]
    }
   ],
   "source": [
    "original = np.array([[1,2],\n",
    "                     [3,4]])\n",
    "new_row = np.array([7,8])\n",
    "with_new_row = np.vstack((original,new_row))\n",
    "print(\"Array with new row: \",with_new_row)\n",
    "\n",
    "new_column = np.array([[7],[8]])\n",
    "with_new_column = np.hstack((original,new_column))\n",
    "print(\"with new column\",with_new_column)\n"
   ]
  },
  {
   "cell_type": "code",
   "execution_count": null,
   "id": "128d4e95",
   "metadata": {},
   "outputs": [
    {
     "name": "stdout",
     "output_type": "stream",
     "text": [
      "Array after deletion:  [1 2 4 5 6]\n",
      "[1 3 4 5 6]\n"
     ]
    }
   ],
   "source": [
    "arr = np.array([1,2,3,4,5,6])\n",
    "deleted = np.delete(arr,2) # here delete will the new changed array not the deleted elements\n",
    "print(\"Array after deletion: \",deleted)\n",
    "\n",
    "arr_2D = np.array([[1,2,3],\n",
    "                   [4,5,6]])\n",
    "delete = np.delete(arr,1)\n",
    "# Notice we cannot directly delete elements of n dimension array using delete keyword \n",
    "# print(delete)\n"
   ]
  }
 ],
 "metadata": {
  "kernelspec": {
   "display_name": "venv",
   "language": "python",
   "name": "python3"
  },
  "language_info": {
   "codemirror_mode": {
    "name": "ipython",
    "version": 3
   },
   "file_extension": ".py",
   "mimetype": "text/x-python",
   "name": "python",
   "nbconvert_exporter": "python",
   "pygments_lexer": "ipython3",
   "version": "3.12.8"
  }
 },
 "nbformat": 4,
 "nbformat_minor": 5
}
