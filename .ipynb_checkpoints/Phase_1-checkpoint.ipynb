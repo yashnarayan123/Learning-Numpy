{
 "cells": [
  {
   "cell_type": "markdown",
   "id": "eb1b90b9",
   "metadata": {},
   "source": [
    "# Numpy array and basics"
   ]
  },
  {
   "cell_type": "code",
   "execution_count": 5,
   "id": "0b8cccaa",
   "metadata": {},
   "outputs": [],
   "source": [
    "import numpy as np\n",
    "import time"
   ]
  },
  {
   "cell_type": "markdown",
   "id": "2152f2a6",
   "metadata": {},
   "source": [
    "### creating arrays from list"
   ]
  },
  {
   "cell_type": "code",
   "execution_count": 3,
   "id": "a4efabba",
   "metadata": {},
   "outputs": [
    {
     "name": "stdout",
     "output_type": "stream",
     "text": [
      "1D array:  [1 2 3]\n",
      "2D array:  [[1 2 3]\n",
      " [4 5 6]]\n"
     ]
    }
   ],
   "source": [
    "ary_1D = np.array([1,2,3])\n",
    "print(\"1D array: \",ary_1D)\n",
    "\n",
    "ary_2D = np.array([[1,2,3],[4,5,6]])\n",
    "print(\"2D array: \",ary_2D)"
   ]
  },
  {
   "cell_type": "markdown",
   "id": "2b4bce14",
   "metadata": {},
   "source": [
    "#### list vs numpy arrays "
   ]
  },
  {
   "cell_type": "code",
   "execution_count": 8,
   "id": "84c529b0",
   "metadata": {},
   "outputs": [
    {
     "name": "stdout",
     "output_type": "stream",
     "text": [
      "Multiplication of python list:  [1, 2, 3, 1, 2, 3]\n",
      "Multiplication of numpy arrays :  [2 6 8]\n",
      "\n",
      " List operation time  0.050343990325927734\n",
      "\n",
      " Numpy operation time :  0.0050029754638671875\n"
     ]
    }
   ],
   "source": [
    "py_list = [1,2,3]\n",
    "print(\"Multiplication of python list: \",py_list*2)\n",
    "\n",
    "np_array = np.array([1,3,4])\n",
    "print(\"Multiplication of numpy arrays : \",np_array*2)\n",
    "\n",
    "start = time.time()\n",
    "py_list = [i*2 for i in range(1000000)]\n",
    "print(\"\\n List operation time \",time.time()-start)\n",
    "\n",
    "\n",
    "start = time.time()\n",
    "np_array = np.arange(1000000) * 2\n",
    "print(\"\\n Numpy operation time : \",time.time()-start)\n"
   ]
  },
  {
   "cell_type": "markdown",
   "id": "60812a0e",
   "metadata": {},
   "source": [
    "### creating array from scratch\n"
   ]
  },
  {
   "cell_type": "code",
   "execution_count": 14,
   "id": "84b2f56d",
   "metadata": {},
   "outputs": [
    {
     "name": "stdout",
     "output_type": "stream",
     "text": [
      "zeros array:\n",
      "  [[0. 0. 0. 0.]\n",
      " [0. 0. 0. 0.]\n",
      " [0. 0. 0. 0.]]\n",
      "Ones arrays \n",
      ": [[1. 1. 1.]\n",
      " [1. 1. 1.]\n",
      " [1. 1. 1.]]\n",
      "Full array:\n",
      " [[7 7]\n",
      " [7 7]]\n",
      "Random matrices : \n",
      " [[0.70303851 0.14564059 0.39977815]\n",
      " [0.66607066 0.02195388 0.34504167]\n",
      " [0.62506666 0.21658429 0.75413026]]\n",
      "Sequence array\n",
      " [0 2 4 6 8]\n"
     ]
    }
   ],
   "source": [
    "zeros = np.zeros((3,4))\n",
    "\n",
    "print(\"zeros array:\\n \",zeros)\n",
    "\n",
    "ones = np.ones((3,3))\n",
    "print(\"Ones arrays \\n:\",ones)\n",
    "\n",
    "\n",
    "full = np.full((2,2),7)\n",
    "print(\"Full array:\\n\",full)\n",
    "\n",
    "\n",
    "random = np.random.random((3,3))\n",
    "print(\"Random matrices : \\n\",random)\n",
    "\n",
    "sequence = np.arange(0,10,2)\n",
    "print(\"Sequence array\\n\",sequence)"
   ]
  },
  {
   "cell_type": "markdown",
   "id": "2c3f95f7",
   "metadata": {},
   "source": [
    "### Vector, Matrix and Tensor \n"
   ]
  },
  {
   "cell_type": "code",
   "execution_count": 16,
   "id": "2402cc26",
   "metadata": {},
   "outputs": [
    {
     "name": "stdout",
     "output_type": "stream",
     "text": [
      "Vector:  [1 2 4]\n",
      "Matrix:  [[1 3]\n",
      " [2 3]]\n",
      "Tensor [[[1 2]\n",
      "  [3 8]]\n",
      "\n",
      " [[2 3]\n",
      "  [9 8]]]\n"
     ]
    }
   ],
   "source": [
    "vector = np.array([1,2,4])\n",
    "print(\"Vector: \",vector)\n",
    "\n",
    "Matrix = np.array([[1,3],[2,3]])\n",
    "print(\"Matrix: \",Matrix)\n",
    "\n",
    "Tensor = np.array([[[1,2],[3,8]],\n",
    "                   [[2,3],[9,8]]])\n",
    "print(\"Tensor\",Tensor)"
   ]
  },
  {
   "cell_type": "markdown",
   "id": "be20cf56",
   "metadata": {},
   "source": [
    "### Array Properties\n"
   ]
  },
  {
   "cell_type": "code",
   "execution_count": null,
   "id": "8b9e20dd",
   "metadata": {},
   "outputs": [
    {
     "name": "stdout",
     "output_type": "stream",
     "text": [
      "Shape of array (2, 3)\n",
      "Dimension of array:  2\n",
      "Size 6\n",
      "DType int64\n"
     ]
    }
   ],
   "source": [
    "arr = np.array([[1,2,3],\n",
    "               [4,5,6]])\n",
    "print(\"Shape of array\",arr.shape) # The shape is a tuple that shows the number of elements along each axis\n",
    "\n",
    "print(\"Dimension of array: \",arr.ndim) #The number of axes (dimensions) the array has.\n",
    "\n",
    "print(\"Size\",arr.size) # The total number of elements in the array.\n",
    "\n",
    "print(\"DType\",arr.dtype)\n"
   ]
  },
  {
   "cell_type": "markdown",
   "id": "74093a91",
   "metadata": {},
   "source": [
    "### Array Reshaping"
   ]
  },
  {
   "cell_type": "code",
   "execution_count": null,
   "id": "80dc5772",
   "metadata": {},
   "outputs": [],
   "source": [
    "arr = np.arange(12)\n",
    "print(\"Original array\",arr)\n",
    "\n"
   ]
  }
 ],
 "metadata": {
  "kernelspec": {
   "display_name": "venv",
   "language": "python",
   "name": "python3"
  },
  "language_info": {
   "codemirror_mode": {
    "name": "ipython",
    "version": 3
   },
   "file_extension": ".py",
   "mimetype": "text/x-python",
   "name": "python",
   "nbconvert_exporter": "python",
   "pygments_lexer": "ipython3",
   "version": "3.12.8"
  }
 },
 "nbformat": 4,
 "nbformat_minor": 5
}
